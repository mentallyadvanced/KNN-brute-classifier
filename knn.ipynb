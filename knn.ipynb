{
 "cells": [
  {
   "cell_type": "markdown",
   "metadata": {},
   "source": [
    "## KNN Classifier implementation\n",
    "Classifier implementing the k-nearest neighbors vote. \n",
    "Brute-force search is used to compute the nearest neighbors.\n",
    "\n",
    "#### Input\n",
    "I use .npy file containing data in the form of a dictionary:\n",
    "{'X_train': array([[],[]]), 'X_test': array([[],[]]), 'y_train': array([])}. \n",
    "\n",
    "Target values (class labels) are exepected to be consecutive integer values starting from 0.\n",
    "\n",
    "Can easily be altered for any input format."
   ]
  },
  {
   "cell_type": "code",
   "execution_count": 1,
   "metadata": {},
   "outputs": [],
   "source": [
    "import numpy as np\n",
    "from sklearn.neighbors import KNeighborsClassifier"
   ]
  },
  {
   "cell_type": "code",
   "execution_count": 3,
   "metadata": {},
   "outputs": [],
   "source": [
    "class KnnBruteClassifier(object):\n",
    "    '''Classifier implementing the k-nearest neighbors vote. \n",
    "    Brute-force search is used to compute the nearest neighbors.\n",
    "    \n",
    "    Parameters\n",
    "    ----------\n",
    "    n_neighbors : int, optional\n",
    "        Number of nearest neighbors used in voting.\n",
    "    weights : str, optional (default = 'uniform')\n",
    "        Weights used in voting.\n",
    "        - 'uniform' :  assigns uniform weights to each neighbor\n",
    "        - 'distance' : assigns weights proportional to the inverse of the distance from the query point\n",
    "    metric: Metric to use for distance computation (default = 'l2').\n",
    "    '''\n",
    "    def __init__(self, n_neighbors=1, weights='uniform', metric=\"l2\"):\n",
    "        self.n_neighbors = n_neighbors\n",
    "        self.weights = weights\n",
    "        self.metric = metric\n",
    "\n",
    "     \n",
    "    def fit(self, x, y):\n",
    "        self.x_train = np.copy(x)\n",
    "        self.y_train = np.copy(y)\n",
    "        self.n_classes = self.y_train.max() + 1\n",
    "\n",
    "        return self\n",
    "        \n",
    "    def predict(self, X):\n",
    "        res = self.predict_proba(X)\n",
    "\n",
    "        return res.argmax(axis=1)\n",
    "\n",
    "        \n",
    "    def predict_proba(self, X):\n",
    "        if self.weights == \"uniform\":\n",
    "            neigh_dist = None\n",
    "            neigh_indarray = self.kneighbors(X, self.n_neighbors)[1]  \n",
    "\n",
    "        if self.weights == 'distance':\n",
    "            neigh_dist, neigh_indarray = self.kneighbors(X, self.n_neighbors)\n",
    "            \n",
    "        weights_arr = self.get_weights(X, neigh_dist, neigh_indarray) \n",
    "        normalized_weights_arr = weights_arr / np.sum(weights_arr, axis=1)[:, np.newaxis]\n",
    "        \n",
    "        proba = []\n",
    "        for i, row in enumerate(normalized_weights_arr):\n",
    "            row_pred = self.y_train[neigh_indarray[i]]\n",
    "            for k in range(self.n_classes):                               \n",
    "                indices = np.where(row_pred == k)\n",
    "                prob_ind = np.sum(row[indices])\n",
    "                proba.append(np.array(prob_ind))\n",
    "        predict_proba = np.array(proba).reshape(X.shape[0], self.n_classes)\n",
    "\n",
    "        return predict_proba       \n",
    "\n",
    "           \n",
    "    def kneighbors(self, x, n_neighbors):\n",
    "        neight_dist = []\n",
    "        neigh_indarray = []\n",
    "        point_dist = [self.l2_norm(x_test, self.x_train) for x_test in x]\n",
    "\n",
    "        for row in point_dist:\n",
    "            enum_neigh = enumerate(row)\n",
    "            sorted_neigh = sorted(enum_neigh, key=lambda x: x[1])[:self.n_neighbors]        \n",
    "\n",
    "            ind_list = [tup[0] for tup in sorted_neigh]                                         \n",
    "            dist_list = [tup[1] for tup in sorted_neigh]\n",
    "\n",
    "            neight_dist.append(dist_list)\n",
    "            neigh_indarray.append(ind_list)\n",
    "        \n",
    "        return np.array(neight_dist), np.array(neigh_indarray)\n",
    "\n",
    "\n",
    "    def l2_norm (self, a, b):\n",
    "        return np.sqrt(np.sum((a - b)**2, axis=1))\n",
    "\n",
    "\n",
    "    def get_weights(self, X, neigh_dist, neigh_indarray):\n",
    "        if self.weights == \"uniform\":\n",
    "            weights_arr = np.ones_like(neigh_indarray)\n",
    "\n",
    "        if self.weights == 'distance':\n",
    "            weights_arr = 1 / neigh_dist                    \n",
    "            if np.any(np.isinf(weights_arr)):\n",
    "                weights_arr = np.isinf(weights_arr).astype(int)     \n",
    "     \n",
    "        return weights_arr\n",
    "\n",
    "      "
   ]
  },
  {
   "cell_type": "code",
   "execution_count": 24,
   "metadata": {},
   "outputs": [],
   "source": [
    "def load_file(filename):\n",
    "    data = np.load(filename, allow_pickle=True)\n",
    "    return data.item()"
   ]
  },
  {
   "cell_type": "code",
   "execution_count": 25,
   "metadata": {},
   "outputs": [],
   "source": [
    "input_filename = \"knn_data_023.npy\"\n",
    "data_dict = load_file(input_filename)"
   ]
  },
  {
   "cell_type": "code",
   "execution_count": 6,
   "metadata": {},
   "outputs": [
    {
     "data": {
      "text/plain": [
       "(330, 4)"
      ]
     },
     "execution_count": 6,
     "metadata": {},
     "output_type": "execute_result"
    }
   ],
   "source": [
    "data_dict['X_test'].shape"
   ]
  },
  {
   "cell_type": "code",
   "execution_count": 7,
   "metadata": {},
   "outputs": [
    {
     "data": {
      "text/plain": [
       "(670, 4)"
      ]
     },
     "execution_count": 7,
     "metadata": {},
     "output_type": "execute_result"
    }
   ],
   "source": [
    "data_dict['X_train'].shape"
   ]
  },
  {
   "cell_type": "markdown",
   "metadata": {},
   "source": [
    "First test"
   ]
  },
  {
   "cell_type": "code",
   "execution_count": 8,
   "metadata": {},
   "outputs": [],
   "source": [
    "model = KnnBruteClassifier(n_neighbors=5, weights='uniform')\n",
    "model.fit(data_dict[\"X_train\"], data_dict[\"y_train\"])\n",
    "l2_uniform_n5_y_predict = model.predict(data_dict[\"X_test\"])"
   ]
  },
  {
   "cell_type": "code",
   "execution_count": 9,
   "metadata": {},
   "outputs": [],
   "source": [
    "og_model = KNeighborsClassifier(n_neighbors=5, weights='uniform', algorithm='brute')\n",
    "og_model.fit(data_dict[\"X_train\"], data_dict[\"y_train\"])\n",
    "og_l2_uniform_n5_y_predict = og_model.predict(data_dict[\"X_test\"])"
   ]
  },
  {
   "cell_type": "code",
   "execution_count": 12,
   "metadata": {},
   "outputs": [
    {
     "data": {
      "text/plain": [
       "True"
      ]
     },
     "execution_count": 12,
     "metadata": {},
     "output_type": "execute_result"
    }
   ],
   "source": [
    "all(l2_uniform_n5_y_predict == og_l2_uniform_n5_y_predict)"
   ]
  },
  {
   "cell_type": "markdown",
   "metadata": {},
   "source": [
    "Second test"
   ]
  },
  {
   "cell_type": "code",
   "execution_count": 13,
   "metadata": {},
   "outputs": [],
   "source": [
    "model = KnnBruteClassifier(n_neighbors=10, weights='uniform')\n",
    "model.fit(data_dict[\"X_train\"], data_dict[\"y_train\"])\n",
    "l2_uniform_10_y_predict = model.predict(data_dict[\"X_test\"])"
   ]
  },
  {
   "cell_type": "code",
   "execution_count": 14,
   "metadata": {},
   "outputs": [],
   "source": [
    "og_model = KNeighborsClassifier(n_neighbors=10, weights='uniform', algorithm='brute')\n",
    "og_model.fit(data_dict[\"X_train\"], data_dict[\"y_train\"])\n",
    "og_l2_uniform_10_y_predict = og_model.predict(data_dict[\"X_test\"])"
   ]
  },
  {
   "cell_type": "code",
   "execution_count": 15,
   "metadata": {},
   "outputs": [
    {
     "data": {
      "text/plain": [
       "True"
      ]
     },
     "execution_count": 15,
     "metadata": {},
     "output_type": "execute_result"
    }
   ],
   "source": [
    "all(l2_uniform_10_y_predict == og_l2_uniform_10_y_predict)"
   ]
  },
  {
   "cell_type": "markdown",
   "metadata": {},
   "source": [
    "Third test"
   ]
  },
  {
   "cell_type": "code",
   "execution_count": 16,
   "metadata": {},
   "outputs": [],
   "source": [
    "model = KnnBruteClassifier(n_neighbors=5, weights='distance')\n",
    "model.fit(data_dict[\"X_train\"], data_dict[\"y_train\"])\n",
    "l2_distance_n5_y_predict = model.predict(data_dict[\"X_test\"])"
   ]
  },
  {
   "cell_type": "code",
   "execution_count": 17,
   "metadata": {},
   "outputs": [],
   "source": [
    "og_model = KNeighborsClassifier(n_neighbors=5, weights='distance', algorithm='brute')\n",
    "og_model.fit(data_dict[\"X_train\"], data_dict[\"y_train\"])\n",
    "og_l2_distance_n5_y_predict = og_model.predict(data_dict[\"X_test\"])"
   ]
  },
  {
   "cell_type": "code",
   "execution_count": 18,
   "metadata": {},
   "outputs": [
    {
     "data": {
      "text/plain": [
       "True"
      ]
     },
     "execution_count": 18,
     "metadata": {},
     "output_type": "execute_result"
    }
   ],
   "source": [
    "all(l2_distance_n5_y_predict == og_l2_distance_n5_y_predict)"
   ]
  },
  {
   "cell_type": "code",
   "execution_count": null,
   "metadata": {},
   "outputs": [],
   "source": [
    "# output_filename = \"results.npy\"\n",
    "# result_dict = {\n",
    "#     \"input_filename\": input_filename,\n",
    "#     \"l2_uniform_n5_y_predict\": l2_uniform_n5_y_predict,\n",
    "#     \"l2_uniform_10_y_predict\": l2_uniform_10_y_predict,\n",
    "#     \"l2_distance_n5_y_predict\": l2_distance_n5_y_predict,\n",
    "# }\n",
    "# np.save(output_filename, result_dict)"
   ]
  }
 ],
 "metadata": {
  "kernelspec": {
   "display_name": "Python 3.9.7 64-bit",
   "language": "python",
   "name": "python3"
  },
  "language_info": {
   "codemirror_mode": {
    "name": "ipython",
    "version": 3
   },
   "file_extension": ".py",
   "mimetype": "text/x-python",
   "name": "python",
   "nbconvert_exporter": "python",
   "pygments_lexer": "ipython3",
   "version": "3.9.7"
  },
  "vscode": {
   "interpreter": {
    "hash": "aee8b7b246df8f9039afb4144a1f6fd8d2ca17a180786b69acc140d282b71a49"
   }
  }
 },
 "nbformat": 4,
 "nbformat_minor": 4
}
